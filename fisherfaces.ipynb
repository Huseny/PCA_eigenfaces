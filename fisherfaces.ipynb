{
 "cells": [
  {
   "cell_type": "markdown",
   "metadata": {},
   "source": [
    "# FisherFaces"
   ]
  },
  {
   "cell_type": "markdown",
   "metadata": {},
   "source": [
    "## Step 1: Preprocess the images"
   ]
  },
  {
   "cell_type": "markdown",
   "metadata": {},
   "source": [
    "### Load the images"
   ]
  },
  {
   "cell_type": "code",
   "execution_count": null,
   "metadata": {},
   "outputs": [],
   "source": [
    "import bz2\n",
    "import cv2\n",
    "import os\n",
    "import numpy as np\n",
    "import matplotlib.pyplot as plt"
   ]
  },
  {
   "cell_type": "code",
   "execution_count": null,
   "metadata": {},
   "outputs": [],
   "source": [
    "directory = 'feret/'\n",
    "faces = {}\n",
    "person_face = {} # to store one image for each person\n",
    "num_of_faces_loaded = 20 #change this value to adjust the number of faces to be loaded\n",
    "\n",
    "\n",
    "for index, person_id in enumerate(os.listdir(directory)):\n",
    "    if index > num_of_faces_loaded:\n",
    "        break\n",
    "\n",
    "    person_path = os.path.join(directory, person_id)\n",
    "    \n",
    "    if os.path.isdir(person_path):\n",
    "        for image_id in os.listdir(person_path):\n",
    "            image_path = os.path.join(person_path, image_id)\n",
    "\n",
    "            if image_path.endswith(\".ppm.bz2\"):\n",
    "                with bz2.BZ2File(image_path, 'rb') as f:\n",
    "                    content = f.read()\n",
    "                image = cv2.imdecode(np.frombuffer(content, np.uint8), cv2.IMREAD_GRAYSCALE)\n",
    "\n",
    "                file_path = \"/\".join(image_path.split(\"/\")[1:])\n",
    "                faces[file_path] = image\n",
    "                person_face[file_path.split(\"/\")[0]] = image"
   ]
  },
  {
   "cell_type": "markdown",
   "metadata": {},
   "source": [
    "### Let's see some of them"
   ]
  },
  {
   "cell_type": "code",
   "execution_count": null,
   "metadata": {},
   "outputs": [],
   "source": [
    "fig, axes = plt.subplots(4,4,sharex=True,sharey=True,figsize=(8,10))\n",
    "faceimages = list(faces.values())[-16:]\n",
    "for i in range(16):\n",
    "    axes[i%4][i//4].imshow(faceimages[i], cmap=\"gray\")\n",
    "print(\"Showing sample faces\")\n",
    "plt.show()"
   ]
  },
  {
   "cell_type": "markdown",
   "metadata": {},
   "source": [
    "### Some details about the data"
   ]
  },
  {
   "cell_type": "code",
   "execution_count": null,
   "metadata": {},
   "outputs": [],
   "source": [
    "faceshape = list(faces.values())[0].shape\n",
    "print(\"Face image shape:\", faceshape)\n",
    "classes = set(filename.split(\"/\")[0] for filename in faces.keys())\n",
    "print(\"Number of classes:\", len(classes))\n",
    "print(\"Number of images:\", len(faces))"
   ]
  },
  {
   "cell_type": "markdown",
   "metadata": {},
   "source": [
    "### Split the data into training and test data"
   ]
  },
  {
   "cell_type": "code",
   "execution_count": null,
   "metadata": {},
   "outputs": [],
   "source": [
    "from sklearn.model_selection import train_test_split"
   ]
  },
  {
   "cell_type": "code",
   "execution_count": null,
   "metadata": {},
   "outputs": [],
   "source": [
    "facematrix = []\n",
    "facelabel = []\n",
    "for key,val in faces.items():\n",
    "    facematrix.append(val.flatten())\n",
    "    facelabel.append(key.split(\"/\")[0])\n",
    "\n",
    "facematrix = np.array(facematrix)\n",
    "facelabel = np.array(facelabel)"
   ]
  },
  {
   "cell_type": "code",
   "execution_count": null,
   "metadata": {},
   "outputs": [],
   "source": [
    "Xtr, Xts, ytr, yts = train_test_split(facematrix, facelabel, test_size=0.25, stratify = facelabel)"
   ]
  },
  {
   "cell_type": "markdown",
   "metadata": {},
   "source": [
    "## Step 2: Training"
   ]
  },
  {
   "cell_type": "markdown",
   "metadata": {},
   "source": [
    "### Extract the most descriminative features using PCA"
   ]
  },
  {
   "cell_type": "markdown",
   "metadata": {},
   "source": [
    "##### We use only the most descriminative features because otherwise Sw and Sb will be too large and it will result in MemoryError"
   ]
  },
  {
   "cell_type": "code",
   "execution_count": null,
   "metadata": {},
   "outputs": [],
   "source": [
    "from sklearn.decomposition import PCA"
   ]
  },
  {
   "cell_type": "code",
   "execution_count": null,
   "metadata": {},
   "outputs": [],
   "source": [
    "pca = PCA(n_components=100)\n",
    "Xtr_pca = pca.fit_transform(Xtr)\n",
    "Xts_pca = pca.transform(Xts)"
   ]
  },
  {
   "cell_type": "markdown",
   "metadata": {},
   "source": [
    "### Compute Sw and Sb"
   ]
  },
  {
   "cell_type": "code",
   "execution_count": null,
   "metadata": {},
   "outputs": [],
   "source": [
    "def within_class_scatter_matrix(X, y):\n",
    "    num_features = X.shape[1]\n",
    "    classes = np.unique(y)\n",
    "    Sw = np.zeros((num_features, num_features))\n",
    "\n",
    "\n",
    "    class_means = [np.mean(X[y == c], axis=0) for c in classes]\n",
    "\n",
    "    for c, class_mean in zip(classes, class_means):\n",
    "        X_c = X[y == c]\n",
    "\n",
    "        scatter_matrix = np.zeros((num_features, num_features))\n",
    "        for x in X_c:\n",
    "            x_minus_mean = x - class_mean\n",
    "            scatter_matrix += np.outer(x_minus_mean, x_minus_mean)\n",
    "\n",
    "        Sw += scatter_matrix\n",
    "\n",
    "    return Sw\n",
    "\n",
    "\n",
    "def between_class_scatter_matrix(X, y):\n",
    "    num_features = X.shape[1]\n",
    "    classes = np.unique(y)\n",
    "    Sb = np.zeros((num_features, num_features))\n",
    "\n",
    "    overall_mean = np.mean(X, axis=0)\n",
    "\n",
    "    for c in classes:\n",
    "        X_c = X[y == c]\n",
    "\n",
    "        class_mean = np.mean(X_c, axis=0)\n",
    "        mean_diff = class_mean - overall_mean\n",
    "\n",
    "        Sb += len(X_c) * np.outer(mean_diff, mean_diff)\n",
    "\n",
    "    return Sb"
   ]
  },
  {
   "cell_type": "code",
   "execution_count": null,
   "metadata": {},
   "outputs": [],
   "source": [
    "from scipy.linalg import eig"
   ]
  },
  {
   "cell_type": "code",
   "execution_count": null,
   "metadata": {},
   "outputs": [],
   "source": [
    "Sw = within_class_scatter_matrix(Xtr_pca, ytr)\n",
    "Sb = between_class_scatter_matrix(Xtr_pca, ytr)\n",
    "\n",
    "eigenvalues, eigenvectors = eig(Sw, Sb)\n"
   ]
  },
  {
   "cell_type": "markdown",
   "metadata": {},
   "source": [
    "### Create a fisherface matrix (LDA space)"
   ]
  },
  {
   "cell_type": "code",
   "execution_count": null,
   "metadata": {},
   "outputs": [],
   "source": [
    "fisherface_matrix = eigenvectors[:, :100]"
   ]
  },
  {
   "cell_type": "markdown",
   "metadata": {},
   "source": [
    "### Project the data into the LDA space (fisherface matrix)"
   ]
  },
  {
   "cell_type": "code",
   "execution_count": null,
   "metadata": {},
   "outputs": [],
   "source": [
    "Xtr_fisher = Xtr_pca.dot(fisherface_matrix)\n",
    "Xts_fisher = Xts_pca.dot(fisherface_matrix)"
   ]
  },
  {
   "cell_type": "markdown",
   "metadata": {},
   "source": [
    "# Step 3: Classification"
   ]
  },
  {
   "cell_type": "markdown",
   "metadata": {},
   "source": [
    "## KNearestClassifier"
   ]
  },
  {
   "cell_type": "code",
   "execution_count": null,
   "metadata": {},
   "outputs": [],
   "source": [
    "class KNNClassifier:\n",
    "    def __init__(self, k=3):\n",
    "        self.k = k\n",
    "\n",
    "    def fit(self, X, y):\n",
    "        self.X_train = X\n",
    "        self.y_train = y\n",
    "\n",
    "    def predict(self, X):\n",
    "        y_pred = [self._predict(x) for x in X]\n",
    "        return np.array(y_pred)\n",
    "\n",
    "    def _predict(self, x):\n",
    "        distances = [np.linalg.norm(x - x_train) for x_train in self.X_train]\n",
    "\n",
    "        k_indices = np.argsort(distances)[:self.k]\n",
    "\n",
    "\n",
    "        k_nearest_labels = [self.y_train[i] for i in k_indices]\n",
    "\n",
    "        int_to_str_map = {int(label): label for label in k_nearest_labels}\n",
    "\n",
    "\n",
    "        most_common = np.bincount(k_nearest_labels).argmax()\n",
    "        return int_to_str_map[most_common]"
   ]
  },
  {
   "cell_type": "markdown",
   "metadata": {},
   "source": [
    "# Test"
   ]
  },
  {
   "cell_type": "markdown",
   "metadata": {},
   "source": [
    "#### Accuracy calculator"
   ]
  },
  {
   "cell_type": "code",
   "execution_count": null,
   "metadata": {},
   "outputs": [],
   "source": [
    "def check_accuracy(y_true, y_pred):\n",
    "    if len(y_true) != len(y_pred):\n",
    "        raise ValueError(\"Input lists must have the same length.\")\n",
    "\n",
    "    correct = 0\n",
    "    total = len(y_true)\n",
    "\n",
    "    for true_label, predicted_label in zip(y_true, y_pred):\n",
    "        if true_label == predicted_label:\n",
    "            correct += 1\n",
    "\n",
    "    accuracy = (correct / total) * 100\n",
    "    return accuracy, correct"
   ]
  },
  {
   "cell_type": "markdown",
   "metadata": {},
   "source": [
    "### Let's test the algorithm on the test set"
   ]
  },
  {
   "cell_type": "code",
   "execution_count": null,
   "metadata": {},
   "outputs": [],
   "source": [
    "num_of_test = 10\n",
    "classifier = KNNClassifier(k = 1)\n",
    "classifier.fit(Xtr_fisher, ytr)\n",
    "\n",
    "predictions = classifier.predict(Xts_fisher)"
   ]
  },
  {
   "cell_type": "markdown",
   "metadata": {},
   "source": [
    "### Let's see some of the predictions"
   ]
  },
  {
   "cell_type": "code",
   "execution_count": null,
   "metadata": {},
   "outputs": [],
   "source": [
    "num_of_test = 10 #change this to adjust the number of pictures being shown\n",
    "for i in range(num_of_test):\n",
    "\n",
    "    fig, axes = plt.subplots(1, 2, sharex=True, sharey=True, figsize=(8, 6))\n",
    "    axes[0].imshow(Xts[i].reshape(faceshape), cmap=\"gray\")\n",
    "    axes[0].set_title(f\"Test Image\")\n",
    "\n",
    "    print(f\"Test Image :{i}\\nBest Match: {predictions[i]}\")\n",
    "    axes[1].imshow(person_face[predictions[i]].reshape(faceshape), cmap=\"gray\")\n",
    "    axes[1].set_title(f\"Best match - {predictions[i]}\")\n",
    "        \n",
    "\n",
    "    plt.show()"
   ]
  },
  {
   "cell_type": "markdown",
   "metadata": {},
   "source": [
    "### Check the accuracy"
   ]
  },
  {
   "cell_type": "code",
   "execution_count": null,
   "metadata": {},
   "outputs": [],
   "source": [
    "accuracy, correct = check_accuracy(yts, predictions)\n",
    "\n",
    "print(f\"{correct} correct guesses out of {len(yts)}\")\n",
    "print(f\"Accuracy: {accuracy}\")"
   ]
  }
 ],
 "metadata": {
  "kernelspec": {
   "display_name": "Python 3",
   "language": "python",
   "name": "python3"
  },
  "language_info": {
   "codemirror_mode": {
    "name": "ipython",
    "version": 3
   },
   "file_extension": ".py",
   "mimetype": "text/x-python",
   "name": "python",
   "nbconvert_exporter": "python",
   "pygments_lexer": "ipython3",
   "version": "3.10.12"
  }
 },
 "nbformat": 4,
 "nbformat_minor": 2
}
